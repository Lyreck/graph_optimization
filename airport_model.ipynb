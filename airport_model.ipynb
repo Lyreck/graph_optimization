{
 "cells": [
  {
   "cell_type": "markdown",
   "metadata": {},
   "source": [
    "# Optimisation dans les graphes - Code d'optimisation d'un aéroport (Cas de Strasbourg-Entzheim)\n",
    "\n",
    "Léo le Douarec, Antoine Reilhes.\n",
    "\n",
    "Vous trouverez dans la suite 4 celllules de code à exécuter\n",
    "1. Importation des données\n",
    "2. Affichage du graphe d'intervalles modélisant l'aéroport de Strasbourg-Entzheim (non colorié, puis colorié) et du dictionnaire de coloration associé (en `print`)\n",
    "3. Gestion des retards (affichage des vols qui poseraient problème en cas de retard, et valeur à partir de laquelle un retard entraîne une augmentation du nombre chromatique $\\chi(G)$\n",
    "4. recherche d'intervalles candidats pour proposer des créneaux pour de nouvelles lignes aériennes de compagnies désireuses d'ajouter des liaisons vers l'aéroport, sans augmenter $\\chi(G)$ (première méthode, dont les résultats sont présentés dans le rapport)."
   ]
  },
  {
   "cell_type": "markdown",
   "metadata": {},
   "source": [
    "## Import des données"
   ]
  },
  {
   "cell_type": "code",
   "execution_count": 1,
   "metadata": {},
   "outputs": [],
   "source": [
    "import networkx as nx\n",
    "import pandas as pd\n",
    "import time\n",
    "import datetime\n",
    "\n",
    "import matplotlib.pyplot as plt #pour afficher les graphes\n",
    "import matplotlib.colors as mpl #pour afficher les graphes coloriés\n",
    "\n",
    "\n",
    "strasbourg_data = pd.read_excel(\"aeroport_strasbourg.xlsx\")#, dtype={\"Départ\":datetime.time, \"Arrivée\":datetime.time}) #pas nécessaire, le type datetime est reconnu d'office\n",
    "#print(strasbourg_data)"
   ]
  },
  {
   "cell_type": "markdown",
   "metadata": {},
   "source": [
    "## Coloration du graphe d'intervalles définissant l'aéroport de Strasbourg-Entzheim"
   ]
  },
  {
   "cell_type": "code",
   "execution_count": 2,
   "metadata": {},
   "outputs": [
    {
     "name": "stdout",
     "output_type": "stream",
     "text": [
      "\n",
      "Noeuds du Graphe (bornes de chaque intervalle, en minutes) calculées par la fonction nx.interval_graph\n",
      "[(0, 400), (0, 405), (0, 420), (490, 520), (500, 530), (525, 555), (560, 645), (600, 1105), (645, 670), (760, 790), (850, 890), (855, 905), (960, 995), (1055, 1085), (1070, 1120), (1120, 1150), (1220, 1255), (1225, 1255), (1285, 1315), (1305, 1439), (1395, 1439), (1410, 1439)]\n",
      "\n",
      "Dictionnaire avec les couleurs trouvées par coloration gloutonne: \n",
      " {(0, 400): 0, (0, 405): 1, (0, 420): 2, (490, 520): 0, (500, 530): 1, (525, 555): 0, (560, 645): 0, (600, 1105): 1, (645, 670): 2, (760, 790): 0, (850, 890): 0, (855, 905): 2, (960, 995): 0, (1055, 1085): 0, (1070, 1120): 2, (1120, 1150): 0, (1220, 1255): 0, (1225, 1255): 1, (1285, 1315): 0, (1305, 1439): 1, (1395, 1439): 0, (1410, 1439): 2}\n"
     ]
    }
   ],
   "source": [
    "\n",
    "def hours_to_minutes(date):\n",
    "    \"\"\"\n",
    "    attention: cette fonction ne traite pas encore les données manquantes \n",
    "    (celles où date = NaN).\n",
    "    \"\"\"\n",
    "    #print(date) #pour debug\n",
    "    date_string = date.strftime('%H:%M')\n",
    "    hours = int(date_string[0:2])\n",
    "    minutes = int(date_string[3:5])\n",
    "    return(60*hours + minutes)\n",
    "    \n",
    "## test\n",
    "#print(hours_to_minutes(datetime.time(0, 0)))\n",
    "\n",
    "#conversion des données \"time\" en minutes (on part de minuit = 0 minutes), en utilisant la fonction précédente\n",
    "strasbourg_data[\"Départ\"] = strasbourg_data[\"Départ\"].apply(hours_to_minutes)\n",
    "##################### Prise en compte du retard moyen (à décommenter si on veut le prendre en compte) ####################################\n",
    "\"\"\"retard_moyen = 27 # source = https://airportinfo.live/fr/statistiques-aeroport/sxb-strasbourg-international-de-strasbourg\n",
    "strasbourg_data[\"Départ\"] += retard_moyen\"\"\" \n",
    "#print(strasbourg_data[\"Départ\"]) #test\n",
    "strasbourg_data[\"Arrivée\"] = strasbourg_data[\"Arrivée\"].apply(hours_to_minutes)\n",
    "\n",
    "nb_lignes = len(strasbourg_data.index)\n",
    "intervals_strasbourg = [(strasbourg_data.loc[i,\"Arrivée\"], strasbourg_data.loc[i,\"Départ\"]) for i in range(nb_lignes)] #création des intervalles pour chaque avion\n",
    "\n",
    "G = nx.interval_graph(intervals_strasbourg) #graphe_strasbourg\n",
    "\n",
    "## Visualisation du Graphe\n",
    "print(\"\\nNoeuds du Graphe (bornes de chaque intervalle, en minutes) calculées par la fonction nx.interval_graph\")\n",
    "print(f\"{sorted(G.nodes)}\\n\")\n",
    "nx.draw_networkx(\n",
    "     G,\n",
    "     with_labels=False,\n",
    "     node_size=50,\n",
    "     edge_color=\"grey\",\n",
    "     font_size=12,\n",
    "     font_color=\"#333333\",\n",
    "     width=2,\n",
    ")\n",
    "plt.title(\"Graphe d'intervalle représentant l'aéroport de Strasbourg\")\n",
    "\n",
    "plt.show()\n",
    "\n",
    "def strategy_left_sort(G,colors): #stratégie de coloriage: par ordre croissant d'heure d'arrivée ! Primordial pour assurer l'optimalité dans le cas général.\n",
    "    return sorted(list(G.nodes), key = lambda l : l[0]) \n",
    "## Coloration du graphe\n",
    "coloriage = nx.greedy_color(G,strategy=strategy_left_sort)\n",
    "\n",
    "unique_colors = set(coloriage.values())\n",
    "\n",
    "graph_color_to_mpl_color = dict(zip(unique_colors, mpl.TABLEAU_COLORS))\n",
    "node_colors = [graph_color_to_mpl_color[coloriage[n]] for n in G.nodes()]\n",
    "\n",
    "pos = nx.spring_layout(G, seed=14)\n",
    "nx.draw_networkx(\n",
    "     G,\n",
    "     pos,\n",
    "     with_labels=False,\n",
    "     node_size=50,\n",
    "     node_color=node_colors,\n",
    "     edge_color=\"grey\",\n",
    "     font_size=12,\n",
    "     font_color=\"#333333\",\n",
    "     width=2,\n",
    ")\n",
    "plt.title(\"Graphe de l'aéroport de Strasbourg, colorié\")\n",
    "plt.show()\n",
    "\n",
    "print(f\"Dictionnaire avec les couleurs trouvées par coloration gloutonne: \\n {coloriage}\")"
   ]
  },
  {
   "cell_type": "markdown",
   "metadata": {},
   "source": [
    "## Recherche de créneaux (intervalles) candidats pour ajouter de nouveaux vols"
   ]
  },
  {
   "cell_type": "code",
   "execution_count": 3,
   "metadata": {},
   "outputs": [
    {
     "name": "stdout",
     "output_type": "stream",
     "text": [
      "Intervalles candidats pour ajouter des avions: [[(400, 420)], [(1220, 1225)]]\n"
     ]
    }
   ],
   "source": [
    "composantes_connexes = list(nx.connected_components(G))\n",
    "\n",
    "\n",
    "inter = []\n",
    "for l in composantes_connexes:\n",
    "    #on définit les bornes de l'intersection \n",
    "    a = min(l, key= lambda x : x[0])[0] # plus petit horaire d'arrivée (borne inférieure de l'intervalle qu'on va renvoyer)\n",
    "    d = max(l, key=lambda x: x[1])[1] # plus grand horaire de départ (borne supérieure)\n",
    "\n",
    "    #puis des variables utiles pour définir le ou les intervalle(s) que l'on va renvoyer\n",
    "    plus_grd_arrivee = max(l, key= lambda x : x[0])[0] #plus grand horaire d'arrivée\n",
    "    plus_petit_depart = min(l, key= lambda x : x[1])[1]\n",
    "\n",
    "    if plus_grd_arrivee < plus_petit_depart: # cas où l'intersection est non vide: plus grand horaire d'arrivée < plus petit horaire de départ. \n",
    "\n",
    "        if plus_grd_arrivee == a: #si l'intervalle à gauche de l'intersection est un singleton, on ne le garde pas.\n",
    "            inter.append([(plus_petit_depart,d)])\n",
    "\n",
    "        elif plus_petit_depart == d: #si l'intervalle à droite est un singleton, on ne le garde pas.\n",
    "            inter.append([(a,plus_grd_arrivee)])\n",
    "        else: \n",
    "            inter.append([(a,plus_grd_arrivee),(plus_petit_depart,d)]) #on renvoie deux intervalles: l'un qui est \"à gauche de l'intersection\", et l'autre qui est à droite.\n",
    "    \n",
    "    \n",
    "\n",
    "print(f\"Intervalles candidats pour ajouter des avions: {inter}\") #chaque sous-liste dans {inter} correspond aux deux intervalles trouvés dans chaque composante connexe."
   ]
  },
  {
   "cell_type": "markdown",
   "metadata": {},
   "source": [
    "Remarques: \n",
    "- Dans la liste ci-dessus, chaque sous-liste représente les intervalles candidats trouvés au sein d'une même composante connexe.\n",
    "- les singletons ne sont pas intéressants, on les ignore (c'est à cela que servent le 2e `if`, et le `elif`).\n",
    "- D'autres pistes pour améliorer et augmenter le nombre de résultats ont été présentées pendant la présentation orale, et dans le rapport."
   ]
  },
  {
   "cell_type": "markdown",
   "metadata": {},
   "source": [
    "## Etude de l'impact de retards ponctuels\n",
    "La cellule suivante met quelques secondes à s'exécuter."
   ]
  },
  {
   "cell_type": "code",
   "execution_count": 4,
   "metadata": {},
   "outputs": [
    {
     "name": "stdout",
     "output_type": "stream",
     "text": [
      "Durée de retard à partir de laquelle le nombre chromatique augmente: 65\n",
      "Ensemble des avions dont les retards surchargent l'aéroport: {3, 4, 5, 6, 9, 10, 11, 12, 13, 17, 18, 19}\n"
     ]
    }
   ],
   "source": [
    "# gestion des retards :\n",
    "retards =[]\n",
    "avions = []\n",
    "\n",
    "for j in range(len(strasbourg_data[\"Arrivée\"])):\n",
    "    for k in range(200):\n",
    "        # décalage de l'intervalle dû au retard\n",
    "        strasbourg_data.at[j,\"Arrivée\"] = strasbourg_data.at[j,\"Arrivée\"] + k\n",
    "        strasbourg_data.at[j,\"Départ\"]  = strasbourg_data.at[j,\"Départ\"] + k\n",
    "        \n",
    "\n",
    "        intervals_strasbourg = [(strasbourg_data.loc[i,\"Arrivée\"], strasbourg_data.loc[i,\"Départ\"]) for i in range(23)]\n",
    "\n",
    "        G = nx.interval_graph(intervals_strasbourg) #graphe_strasbourg\n",
    "\n",
    "        # coloriage du graphe alteré par le retard\n",
    "        coloriage = nx.greedy_color(G, strategy=strategy_left_sort)\n",
    "        unique_colors = set(coloriage.values())\n",
    "\n",
    "        if len(unique_colors) == 4: # si le retard surcharge l'aéroport\n",
    "            retards.append(k) # temps de retard \n",
    "            avions.append(j) # avions en question\n",
    "\n",
    "        strasbourg_data.at[j,\"Arrivée\"] = strasbourg_data.at[j,\"Arrivée\"] - k\n",
    "        strasbourg_data.at[j,\"Départ\"]  = strasbourg_data.at[j,\"Départ\"] - k\n",
    "print(f\"Durée de retard à partir de laquelle le nombre chromatique augmente: {min(retards)}\")\n",
    "print(f\"Ensemble des avions dont les retards surchargent l'aéroport: {set(avions)}\")"
   ]
  },
  {
   "cell_type": "markdown",
   "metadata": {},
   "source": [
    "Les résultats ont été analysés au sein du rapport et lors de la présentation orale. N'hésitez pas à revenir vers nous si besoin.\n",
    "\n",
    "Léo le Douarec et Antoine Reilhes."
   ]
  },
  {
   "cell_type": "markdown",
   "metadata": {},
   "source": []
  }
 ],
 "metadata": {
  "kernelspec": {
   "display_name": "Python 3.11.7 64-bit",
   "language": "python",
   "name": "python3"
  },
  "language_info": {
   "codemirror_mode": {
    "name": "ipython",
    "version": 3
   },
   "file_extension": ".py",
   "mimetype": "text/x-python",
   "name": "python",
   "nbconvert_exporter": "python",
   "pygments_lexer": "ipython3",
   "version": "3.11.7"
  },
  "orig_nbformat": 4,
  "vscode": {
   "interpreter": {
    "hash": "aee8b7b246df8f9039afb4144a1f6fd8d2ca17a180786b69acc140d282b71a49"
   }
  }
 },
 "nbformat": 4,
 "nbformat_minor": 2
}
